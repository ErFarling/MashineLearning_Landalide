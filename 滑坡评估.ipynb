{
 "cells": [
  {
   "cell_type": "code",
   "execution_count": 1,
   "id": "eeda88a3-294b-4ba0-845b-fdb3cc38a60d",
   "metadata": {},
   "outputs": [
    {
     "data": {
      "text/html": [
       "<div>\n",
       "<style scoped>\n",
       "    .dataframe tbody tr th:only-of-type {\n",
       "        vertical-align: middle;\n",
       "    }\n",
       "\n",
       "    .dataframe tbody tr th {\n",
       "        vertical-align: top;\n",
       "    }\n",
       "\n",
       "    .dataframe thead th {\n",
       "        text-align: right;\n",
       "    }\n",
       "</style>\n",
       "<table border=\"1\" class=\"dataframe\">\n",
       "  <thead>\n",
       "    <tr style=\"text-align: right;\">\n",
       "      <th></th>\n",
       "      <th>osm_id</th>\n",
       "      <th>code</th>\n",
       "      <th>fclass</th>\n",
       "      <th>width</th>\n",
       "      <th>name</th>\n",
       "      <th>fclass_cn</th>\n",
       "    </tr>\n",
       "    <tr>\n",
       "      <th>OBJECTID</th>\n",
       "      <th></th>\n",
       "      <th></th>\n",
       "      <th></th>\n",
       "      <th></th>\n",
       "      <th></th>\n",
       "      <th></th>\n",
       "    </tr>\n",
       "  </thead>\n",
       "  <tbody>\n",
       "    <tr>\n",
       "      <th>1</th>\n",
       "      <td>550044782</td>\n",
       "      <td>8102</td>\n",
       "      <td>stream</td>\n",
       "      <td>0</td>\n",
       "      <td></td>\n",
       "      <td>溪/小河</td>\n",
       "    </tr>\n",
       "    <tr>\n",
       "      <th>2</th>\n",
       "      <td>550044775</td>\n",
       "      <td>8102</td>\n",
       "      <td>stream</td>\n",
       "      <td>0</td>\n",
       "      <td></td>\n",
       "      <td>溪/小河</td>\n",
       "    </tr>\n",
       "    <tr>\n",
       "      <th>3</th>\n",
       "      <td>53204914</td>\n",
       "      <td>8101</td>\n",
       "      <td>river</td>\n",
       "      <td>0</td>\n",
       "      <td>长乐水</td>\n",
       "      <td>河/江</td>\n",
       "    </tr>\n",
       "    <tr>\n",
       "      <th>4</th>\n",
       "      <td>550609807</td>\n",
       "      <td>8101</td>\n",
       "      <td>river</td>\n",
       "      <td>0</td>\n",
       "      <td></td>\n",
       "      <td>河/江</td>\n",
       "    </tr>\n",
       "    <tr>\n",
       "      <th>5</th>\n",
       "      <td>669070780</td>\n",
       "      <td>8102</td>\n",
       "      <td>stream</td>\n",
       "      <td>0</td>\n",
       "      <td></td>\n",
       "      <td>溪/小河</td>\n",
       "    </tr>\n",
       "    <tr>\n",
       "      <th>6</th>\n",
       "      <td>563501516</td>\n",
       "      <td>8102</td>\n",
       "      <td>stream</td>\n",
       "      <td>0</td>\n",
       "      <td>李宅水</td>\n",
       "      <td>溪/小河</td>\n",
       "    </tr>\n",
       "    <tr>\n",
       "      <th>7</th>\n",
       "      <td>563501513</td>\n",
       "      <td>8102</td>\n",
       "      <td>stream</td>\n",
       "      <td>0</td>\n",
       "      <td></td>\n",
       "      <td>溪/小河</td>\n",
       "    </tr>\n",
       "  </tbody>\n",
       "</table>\n",
       "</div>"
      ],
      "text/plain": [
       "             osm_id  code  fclass  width name fclass_cn\n",
       "OBJECTID                                               \n",
       "1         550044782  8102  stream      0           溪/小河\n",
       "2         550044775  8102  stream      0           溪/小河\n",
       "3          53204914  8101   river      0  长乐水       河/江\n",
       "4         550609807  8101   river      0            河/江\n",
       "5         669070780  8102  stream      0           溪/小河\n",
       "6         563501516  8102  stream      0  李宅水      溪/小河\n",
       "7         563501513  8102  stream      0           溪/小河"
      ]
     },
     "execution_count": 1,
     "metadata": {},
     "output_type": "execute_result"
    }
   ],
   "source": [
    "import pandas as pd\n",
    "import geopandas as gpd\n",
    "import matplotlib.pyplot as plt\n",
    "plt.rcParams['font.sans-serif'] = ['Microsoft YaHei', 'SimHei']  # 优先微软雅黑/黑体\n",
    "plt.rcParams['axes.unicode_minus'] = False  # 修复负号显示\n",
    "data=pd.read_csv(r\"D:\\MachineLearningTrain\\shuixi.csv\",index_col=0,encoding='gbk')\n",
    "data"
   ]
  },
  {
   "cell_type": "code",
   "execution_count": 2,
   "id": "54583e33-952f-4a61-9347-d43901f395a3",
   "metadata": {},
   "outputs": [
    {
     "name": "stdout",
     "output_type": "stream",
     "text": [
      "True\n"
     ]
    }
   ],
   "source": [
    "import os\n",
    "shp_path = r\"D:\\datayihuang\\yihuangshuixi\\shuixi.shp\"\n",
    "print(os.path.exists(shp_path))  # 应输出 True"
   ]
  },
  {
   "cell_type": "code",
   "execution_count": 3,
   "id": "3f955e9e-8ddb-4aeb-a90f-d47aec20a320",
   "metadata": {},
   "outputs": [],
   "source": [
    "water_system = gpd.read_file(r\"H:\\GIS数据收集站\\收集站2\\22ce374a9719fa4a249e1a1fa7cd353c_6effe2df9e7c7b65726ece76c284d3e6_8\\宜黄\\yihuangshuixi\\shuixi.shp\",encoding='UTF-8')"
   ]
  },
  {
   "cell_type": "code",
   "execution_count": 4,
   "id": "9f10ab2b-4f06-422b-ae3b-9402c9ec36ec",
   "metadata": {},
   "outputs": [
    {
     "data": {
      "text/html": [
       "<div>\n",
       "<style scoped>\n",
       "    .dataframe tbody tr th:only-of-type {\n",
       "        vertical-align: middle;\n",
       "    }\n",
       "\n",
       "    .dataframe tbody tr th {\n",
       "        vertical-align: top;\n",
       "    }\n",
       "\n",
       "    .dataframe thead th {\n",
       "        text-align: right;\n",
       "    }\n",
       "</style>\n",
       "<table border=\"1\" class=\"dataframe\">\n",
       "  <thead>\n",
       "    <tr style=\"text-align: right;\">\n",
       "      <th></th>\n",
       "      <th>osm_id</th>\n",
       "      <th>code</th>\n",
       "      <th>fclass</th>\n",
       "      <th>width</th>\n",
       "      <th>name</th>\n",
       "      <th>fclass_cn</th>\n",
       "      <th>statement</th>\n",
       "      <th>geometry</th>\n",
       "    </tr>\n",
       "  </thead>\n",
       "  <tbody>\n",
       "    <tr>\n",
       "      <th>0</th>\n",
       "      <td>550044782</td>\n",
       "      <td>8102</td>\n",
       "      <td>stream</td>\n",
       "      <td>0</td>\n",
       "      <td>None</td>\n",
       "      <td>溪/小河</td>\n",
       "      <td>该数据由立方数据学社整理，欢迎关注立方数据学社公众号</td>\n",
       "      <td>LINESTRING (116.21848 27.37468, 116.21951 27.3...</td>\n",
       "    </tr>\n",
       "    <tr>\n",
       "      <th>1</th>\n",
       "      <td>550044775</td>\n",
       "      <td>8102</td>\n",
       "      <td>stream</td>\n",
       "      <td>0</td>\n",
       "      <td>None</td>\n",
       "      <td>溪/小河</td>\n",
       "      <td>该数据由立方数据学社整理，欢迎关注立方数据学社公众号</td>\n",
       "      <td>LINESTRING (116.1754 27.45544, 116.17454 27.45...</td>\n",
       "    </tr>\n",
       "    <tr>\n",
       "      <th>2</th>\n",
       "      <td>53204914</td>\n",
       "      <td>8101</td>\n",
       "      <td>river</td>\n",
       "      <td>0</td>\n",
       "      <td>长乐水</td>\n",
       "      <td>河/江</td>\n",
       "      <td>该数据由立方数据学社整理，欢迎关注立方数据学社公众号</td>\n",
       "      <td>LINESTRING (116.11718 27.54393, 116.11718 27.5...</td>\n",
       "    </tr>\n",
       "    <tr>\n",
       "      <th>3</th>\n",
       "      <td>550609807</td>\n",
       "      <td>8101</td>\n",
       "      <td>river</td>\n",
       "      <td>0</td>\n",
       "      <td>None</td>\n",
       "      <td>河/江</td>\n",
       "      <td>该数据由立方数据学社整理，欢迎关注立方数据学社公众号</td>\n",
       "      <td>LINESTRING (116.32268 27.43808, 116.31685 27.4...</td>\n",
       "    </tr>\n",
       "    <tr>\n",
       "      <th>4</th>\n",
       "      <td>669070780</td>\n",
       "      <td>8102</td>\n",
       "      <td>stream</td>\n",
       "      <td>0</td>\n",
       "      <td>None</td>\n",
       "      <td>溪/小河</td>\n",
       "      <td>该数据由立方数据学社整理，欢迎关注立方数据学社公众号</td>\n",
       "      <td>LINESTRING (116.21997 27.5504, 116.21917 27.55...</td>\n",
       "    </tr>\n",
       "  </tbody>\n",
       "</table>\n",
       "</div>"
      ],
      "text/plain": [
       "      osm_id  code  fclass  width  name fclass_cn                   statement  \\\n",
       "0  550044782  8102  stream      0  None      溪/小河  该数据由立方数据学社整理，欢迎关注立方数据学社公众号   \n",
       "1  550044775  8102  stream      0  None      溪/小河  该数据由立方数据学社整理，欢迎关注立方数据学社公众号   \n",
       "2   53204914  8101   river      0   长乐水       河/江  该数据由立方数据学社整理，欢迎关注立方数据学社公众号   \n",
       "3  550609807  8101   river      0  None       河/江  该数据由立方数据学社整理，欢迎关注立方数据学社公众号   \n",
       "4  669070780  8102  stream      0  None      溪/小河  该数据由立方数据学社整理，欢迎关注立方数据学社公众号   \n",
       "\n",
       "                                            geometry  \n",
       "0  LINESTRING (116.21848 27.37468, 116.21951 27.3...  \n",
       "1  LINESTRING (116.1754 27.45544, 116.17454 27.45...  \n",
       "2  LINESTRING (116.11718 27.54393, 116.11718 27.5...  \n",
       "3  LINESTRING (116.32268 27.43808, 116.31685 27.4...  \n",
       "4  LINESTRING (116.21997 27.5504, 116.21917 27.55...  "
      ]
     },
     "execution_count": 4,
     "metadata": {},
     "output_type": "execute_result"
    }
   ],
   "source": [
    "water_system.head()"
   ]
  },
  {
   "cell_type": "code",
   "execution_count": 5,
   "id": "2b982bfb-4428-4948-8bff-0020d6cf4b58",
   "metadata": {},
   "outputs": [
    {
     "data": {
      "text/plain": [
       "<Geographic 2D CRS: EPSG:4326>\n",
       "Name: WGS 84\n",
       "Axis Info [ellipsoidal]:\n",
       "- Lat[north]: Geodetic latitude (degree)\n",
       "- Lon[east]: Geodetic longitude (degree)\n",
       "Area of Use:\n",
       "- name: World.\n",
       "- bounds: (-180.0, -90.0, 180.0, 90.0)\n",
       "Datum: World Geodetic System 1984 ensemble\n",
       "- Ellipsoid: WGS 84\n",
       "- Prime Meridian: Greenwich"
      ]
     },
     "execution_count": 5,
     "metadata": {},
     "output_type": "execute_result"
    }
   ],
   "source": [
    "water_system.crs"
   ]
  },
  {
   "cell_type": "code",
   "execution_count": 8,
   "id": "f99ff5cf-1294-4b35-aaef-c01fefdce204",
   "metadata": {},
   "outputs": [
    {
     "data": {
      "image/png": "[encoded data removed]",
      "text/plain": [
       "<Figure size 1000x1000 with 1 Axes>"
      ]
     },
     "metadata": {},
     "output_type": "display_data"
    }
   ],
   "source": [
    "water_system.plot(figsize=(10,10),color='blue')\n",
    "plt.title(\"水系\")\n",
    "plt.show()"
   ]
  },
  {
   "cell_type": "code",
   "execution_count": 9,
   "id": "840afb08-e8ae-447b-9de7-2d3bf71749fe",
   "metadata": {},
   "outputs": [
    {
     "ename": "ModuleNotFoundError",
     "evalue": "No module named 'qgis'",
     "output_type": "error",
     "traceback": [
      "\u001b[1;31m---------------------------------------------------------------------------\u001b[0m",
      "\u001b[1;31mModuleNotFoundError\u001b[0m                       Traceback (most recent call last)",
      "Cell \u001b[1;32mIn[9], line 1\u001b[0m\n\u001b[1;32m----> 1\u001b[0m \u001b[38;5;28;01mfrom\u001b[39;00m \u001b[38;5;21;01mqgis\u001b[39;00m\u001b[38;5;21;01m.\u001b[39;00m\u001b[38;5;21;01mcore\u001b[39;00m \u001b[38;5;28;01mimport\u001b[39;00m \u001b[38;5;241m*\u001b[39m\n\u001b[0;32m      2\u001b[0m QgsApplication\u001b[38;5;241m.\u001b[39msetPrefixPath(\u001b[38;5;124m'\u001b[39m\u001b[38;5;124m/opt/anaconda3/envs/geo_ml\u001b[39m\u001b[38;5;124m'\u001b[39m, \u001b[38;5;28;01mTrue\u001b[39;00m)  \u001b[38;5;66;03m# 自动配置路径\u001b[39;00m\n\u001b[0;32m      3\u001b[0m qgs \u001b[38;5;241m=\u001b[39m QgsApplication([], \u001b[38;5;28;01mFalse\u001b[39;00m)\n",
      "\u001b[1;31mModuleNotFoundError\u001b[0m: No module named 'qgis'"
     ]
    }
   ],
   "source": [
    "from qgis.core import *\n",
    "QgsApplication.setPrefixPath('/opt/anaconda3/envs/geo_ml', True)  # 自动配置路径\n",
    "qgs = QgsApplication([], False)\n",
    "qgs.initQgis()\n",
    "print(\"QGIS版本:\", Qgis.QGIS_VERSION)  # 应输出3.28.x"
   ]
  },
  {
   "cell_type": "code",
   "execution_count": null,
   "id": "3b70394a-29bc-4e24-976b-ba631679ffc3",
   "metadata": {},
   "outputs": [],
   "source": []
  }
 ],
 "metadata": {
  "kernelspec": {
   "display_name": "Python [conda env:ml_env] *",
   "language": "python",
   "name": "conda-env-ml_env-py"
  },
  "language_info": {
   "codemirror_mode": {
    "name": "ipython",
    "version": 3
   },
   "file_extension": ".py",
   "mimetype": "text/x-python",
   "name": "python",
   "nbconvert_exporter": "python",
   "pygments_lexer": "ipython3",
   "version": "3.9.21"
  }
 },
 "nbformat": 4,
 "nbformat_minor": 5
}
